{
 "cells": [
  {
   "cell_type": "code",
   "execution_count": 1,
   "id": "94ff751c-5ac4-49d4-955a-c37200fb4cd5",
   "metadata": {},
   "outputs": [
    {
     "name": "stdout",
     "output_type": "stream",
     "text": [
      "Matrix A:\n",
      " [[2 5 7]\n",
      " [2 3 6]\n",
      " [1 8 5]]\n",
      "\n",
      "Matrix B:\n",
      " [[8 1 5]\n",
      " [9 7 6]\n",
      " [1 3 9]]\n",
      "\n",
      "Matrix A x B = C [with np.matmul]:\n",
      " [[ 68  58 103]\n",
      " [ 49  41  82]\n",
      " [ 85  72  98]]\n",
      "\n",
      "Matrix A x B = C [with @]:\n",
      " [[ 68  58 103]\n",
      " [ 49  41  82]\n",
      " [ 85  72  98]]\n",
      "\n",
      "Matrix A x B = C [with np.dot]:\n",
      " [[ 68  58 103]\n",
      " [ 49  41  82]\n",
      " [ 85  72  98]]\n",
      "\n"
     ]
    }
   ],
   "source": [
    "# numpy library imported\n",
    "import numpy as np  \n",
    "  \n",
    "# random matrices are generated and printed\n",
    "A = np.random.randint(10, size=(3,3))\n",
    "B = np.random.randint(10, size=(3,3))\n",
    "\n",
    "print(f\"Matrix A:\\n {A}\\n\")\n",
    "print(f\"Matrix B:\\n {B}\\n\")\n",
    "\n",
    "# matrix C, as a product of matrices A and B is generated\n",
    "C = np.matmul(A,B)\n",
    "print(f\"Matrix A x B = C [with np.matmul]:\\n {C}\\n\")\n",
    "\n",
    "#alternatively_1;\n",
    "\n",
    "D=A@B\n",
    "\n",
    "print(f\"Matrix A x B = C [with @]:\\n {D}\\n\")\n",
    "\n",
    "#alternatively_2;\n",
    "\n",
    "E=np.dot(A,B)\n",
    "\n",
    "print(f\"Matrix A x B = C [with np.dot]:\\n {E}\\n\")"
   ]
  },
  {
   "cell_type": "code",
   "execution_count": null,
   "id": "06d2ba69-7a29-446a-8a40-ade937a7067d",
   "metadata": {},
   "outputs": [],
   "source": []
  }
 ],
 "metadata": {
  "kernelspec": {
   "display_name": "Python 3 (ipykernel)",
   "language": "python",
   "name": "python3"
  },
  "language_info": {
   "codemirror_mode": {
    "name": "ipython",
    "version": 3
   },
   "file_extension": ".py",
   "mimetype": "text/x-python",
   "name": "python",
   "nbconvert_exporter": "python",
   "pygments_lexer": "ipython3",
   "version": "3.9.7"
  }
 },
 "nbformat": 4,
 "nbformat_minor": 5
}
